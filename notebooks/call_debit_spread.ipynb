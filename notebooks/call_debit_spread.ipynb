{
 "cells": [
  {
   "cell_type": "markdown",
   "metadata": {},
   "source": [
    "# Call Debit Spread API Endpoint Documentation\n",
    "\n",
    "### Overview\n",
    "The Call Debit Spread API endpoint allows quant developers to easily retrieve data on call debit spreads for specified tickers. This documentation guides you through how to use the endpoint, including how to pass parameters, make API calls, and handle the response. This service is ideal for those interested in trading options with a specific risk-reward ratio.\n",
    "\n",
    "\n",
    "### Required Components\n",
    "To use this API endpoint, you need the following:\n",
    "- **API Key**: Your API key (`MOSAIC_API_KEY`) is required to authenticate the request.\n",
    "- **Environment Setup**: Use `.env` files to securely store your API key and keep sensitive data away from your code.\n"
   ]
  },
  {
   "cell_type": "code",
   "execution_count": null,
   "metadata": {},
   "outputs": [],
   "source": [
    "import requests \n",
    "import pandas as pd \n",
    "import os \n",
    "from dotenv import load_dotenv \n",
    "import urllib\n",
    "\n",
    "load_dotenv()\n",
    "\n",
    "\n",
    "params = {\n",
    "    \"ticker\": \"SPY\", # The ticker symbol for the underlying asset (e.g., `SPY`). \n",
    "    \"min_dte\": 20, # Minimum days to expiration. Defines a lower bound on `dte`. \n",
    "    \"max_dte\": 50, # Maximum days to expiration. Defines an upper bound on `dte`.\n",
    "    'max_strike':620 # The highest you think the stock price will go\n",
    "}\n",
    "\n",
    "# Convert dictionary to URL-encoded string\n",
    "query_string = urllib.parse.urlencode(params)\n",
    "\n",
    "url = f\"https://uum5c9uvjt.us-east-1.awsapprunner.com/call_options/debit_spread?{query_string}&apikey={os.environ['MOSAIC_API_KEY']}\"\n",
    "\n",
    "res = requests.get(url)\n",
    "\n",
    "df = pd.read_json(res.json()['data'],orient='split')"
   ]
  },
  {
   "cell_type": "code",
   "execution_count": 37,
   "metadata": {},
   "outputs": [
    {
     "data": {
      "text/html": [
       "<div>\n",
       "<style scoped>\n",
       "    .dataframe tbody tr th:only-of-type {\n",
       "        vertical-align: middle;\n",
       "    }\n",
       "\n",
       "    .dataframe tbody tr th {\n",
       "        vertical-align: top;\n",
       "    }\n",
       "\n",
       "    .dataframe thead th {\n",
       "        text-align: right;\n",
       "    }\n",
       "</style>\n",
       "<table border=\"1\" class=\"dataframe\">\n",
       "  <thead>\n",
       "    <tr style=\"text-align: right;\">\n",
       "      <th></th>\n",
       "      <th>underlying_ticker</th>\n",
       "      <th>bottom_leg_occ</th>\n",
       "      <th>occ</th>\n",
       "      <th>stock_price</th>\n",
       "      <th>expiration_date</th>\n",
       "      <th>dte</th>\n",
       "      <th>distance_to_max_profit</th>\n",
       "      <th>moic</th>\n",
       "    </tr>\n",
       "  </thead>\n",
       "  <tbody>\n",
       "    <tr>\n",
       "      <th>0</th>\n",
       "      <td>SPY</td>\n",
       "      <td>SPY241220C00619000</td>\n",
       "      <td>SPY241220C00620000</td>\n",
       "      <td>598.83</td>\n",
       "      <td>2024-12-20</td>\n",
       "      <td>21</td>\n",
       "      <td>0.034742</td>\n",
       "      <td>11.764706</td>\n",
       "    </tr>\n",
       "    <tr>\n",
       "      <th>1</th>\n",
       "      <td>SPY</td>\n",
       "      <td>SPY241220C00618000</td>\n",
       "      <td>SPY241220C00619000</td>\n",
       "      <td>598.83</td>\n",
       "      <td>2024-12-20</td>\n",
       "      <td>21</td>\n",
       "      <td>0.033128</td>\n",
       "      <td>10.526316</td>\n",
       "    </tr>\n",
       "    <tr>\n",
       "      <th>2</th>\n",
       "      <td>SPY</td>\n",
       "      <td>SPY241227C00619000</td>\n",
       "      <td>SPY241227C00620000</td>\n",
       "      <td>598.83</td>\n",
       "      <td>2024-12-27</td>\n",
       "      <td>28</td>\n",
       "      <td>0.034742</td>\n",
       "      <td>9.523810</td>\n",
       "    </tr>\n",
       "    <tr>\n",
       "      <th>3</th>\n",
       "      <td>SPY</td>\n",
       "      <td>SPY241231C00619000</td>\n",
       "      <td>SPY241231C00620000</td>\n",
       "      <td>598.83</td>\n",
       "      <td>2024-12-31</td>\n",
       "      <td>32</td>\n",
       "      <td>0.034742</td>\n",
       "      <td>8.333333</td>\n",
       "    </tr>\n",
       "    <tr>\n",
       "      <th>4</th>\n",
       "      <td>SPY</td>\n",
       "      <td>SPY241227C00618000</td>\n",
       "      <td>SPY241227C00619000</td>\n",
       "      <td>598.83</td>\n",
       "      <td>2024-12-27</td>\n",
       "      <td>28</td>\n",
       "      <td>0.033128</td>\n",
       "      <td>8.333333</td>\n",
       "    </tr>\n",
       "    <tr>\n",
       "      <th>5</th>\n",
       "      <td>SPY</td>\n",
       "      <td>SPY241220C00617000</td>\n",
       "      <td>SPY241220C00618000</td>\n",
       "      <td>598.83</td>\n",
       "      <td>2024-12-20</td>\n",
       "      <td>21</td>\n",
       "      <td>0.031511</td>\n",
       "      <td>8.333333</td>\n",
       "    </tr>\n",
       "    <tr>\n",
       "      <th>6</th>\n",
       "      <td>SPY</td>\n",
       "      <td>SPY241231C00618000</td>\n",
       "      <td>SPY241231C00619000</td>\n",
       "      <td>598.83</td>\n",
       "      <td>2024-12-31</td>\n",
       "      <td>32</td>\n",
       "      <td>0.033128</td>\n",
       "      <td>7.692308</td>\n",
       "    </tr>\n",
       "    <tr>\n",
       "      <th>7</th>\n",
       "      <td>SPY</td>\n",
       "      <td>SPY241220C00616000</td>\n",
       "      <td>SPY241220C00617000</td>\n",
       "      <td>598.83</td>\n",
       "      <td>2024-12-20</td>\n",
       "      <td>21</td>\n",
       "      <td>0.029891</td>\n",
       "      <td>7.692308</td>\n",
       "    </tr>\n",
       "    <tr>\n",
       "      <th>8</th>\n",
       "      <td>SPY</td>\n",
       "      <td>SPY241227C00617000</td>\n",
       "      <td>SPY241227C00618000</td>\n",
       "      <td>598.83</td>\n",
       "      <td>2024-12-27</td>\n",
       "      <td>28</td>\n",
       "      <td>0.031511</td>\n",
       "      <td>7.407407</td>\n",
       "    </tr>\n",
       "    <tr>\n",
       "      <th>9</th>\n",
       "      <td>SPY</td>\n",
       "      <td>SPY250103C00619000</td>\n",
       "      <td>SPY250103C00620000</td>\n",
       "      <td>598.83</td>\n",
       "      <td>2025-01-03</td>\n",
       "      <td>35</td>\n",
       "      <td>0.034742</td>\n",
       "      <td>7.142857</td>\n",
       "    </tr>\n",
       "  </tbody>\n",
       "</table>\n",
       "</div>"
      ],
      "text/plain": [
       "  underlying_ticker      bottom_leg_occ                 occ  stock_price  \\\n",
       "0               SPY  SPY241220C00619000  SPY241220C00620000       598.83   \n",
       "1               SPY  SPY241220C00618000  SPY241220C00619000       598.83   \n",
       "2               SPY  SPY241227C00619000  SPY241227C00620000       598.83   \n",
       "3               SPY  SPY241231C00619000  SPY241231C00620000       598.83   \n",
       "4               SPY  SPY241227C00618000  SPY241227C00619000       598.83   \n",
       "5               SPY  SPY241220C00617000  SPY241220C00618000       598.83   \n",
       "6               SPY  SPY241231C00618000  SPY241231C00619000       598.83   \n",
       "7               SPY  SPY241220C00616000  SPY241220C00617000       598.83   \n",
       "8               SPY  SPY241227C00617000  SPY241227C00618000       598.83   \n",
       "9               SPY  SPY250103C00619000  SPY250103C00620000       598.83   \n",
       "\n",
       "  expiration_date  dte  distance_to_max_profit       moic  \n",
       "0      2024-12-20   21                0.034742  11.764706  \n",
       "1      2024-12-20   21                0.033128  10.526316  \n",
       "2      2024-12-27   28                0.034742   9.523810  \n",
       "3      2024-12-31   32                0.034742   8.333333  \n",
       "4      2024-12-27   28                0.033128   8.333333  \n",
       "5      2024-12-20   21                0.031511   8.333333  \n",
       "6      2024-12-31   32                0.033128   7.692308  \n",
       "7      2024-12-20   21                0.029891   7.692308  \n",
       "8      2024-12-27   28                0.031511   7.407407  \n",
       "9      2025-01-03   35                0.034742   7.142857  "
      ]
     },
     "execution_count": 37,
     "metadata": {},
     "output_type": "execute_result"
    }
   ],
   "source": [
    "df[['underlying_ticker','bottom_leg_occ','occ','stock_price','expiration_date','dte','distance_to_max_profit','moic']].head(10)"
   ]
  },
  {
   "cell_type": "markdown",
   "metadata": {},
   "source": [
    "### Response Data\n",
    "The response from the endpoint is provided in split JSON format, which can be easily converted into a pandas DataFrame. The DataFrame will contain various fields, including:\n",
    "\n",
    "- **`underlying_ticker`**: The ticker symbol for the underlying asset (e.g., `SPY`).\n",
    "- **`bottom_leg_occ`**: Option Clearing Corporation (OCC) code for the lower leg of the spread.\n",
    "- **`occ`**: OCC code for the call debit spread.\n",
    "- **`expiration_date`**: The expiration date of the spread option.\n",
    "- **`dte`**: Days to expiration.\n",
    "- **`distance_to_max_profit`**: How far the spread is from achieving maximum profit.\n",
    "- **`moic`**: Multiple on Invested Capital. Represents the potential return multiple (e.g., an `moic` of 11 implies an 11x return on your initial investment).\n",
    "\n",
    "\n",
    "- **MOIC (Multiple on Invested Capital)**: This metric helps quantify the potential returns on the invested capital.\n",
    "  - For example, a `MOIC` of 11 means that if you invest $100, the profit could potentially be $1,100.\n",
    "- Trades that are **further out of the money** tend to have **higher expected profit** but come with a **lower likelihood of profit**.\n",
    "- **Expiration dates** further into the future tend to yield **lower expected profit** since you pay a premium for the additional time.\n",
    "\n"
   ]
  },
  {
   "cell_type": "code",
   "execution_count": 43,
   "metadata": {},
   "outputs": [
    {
     "data": {
      "text/plain": [
       "<matplotlib.collections.PathCollection at 0x1e5315319d0>"
      ]
     },
     "execution_count": 43,
     "metadata": {},
     "output_type": "execute_result"
    },
    {
     "data": {
      "image/png": "[encoded data removed]",
      "text/plain": [
       "<Figure size 640x480 with 1 Axes>"
      ]
     },
     "metadata": {},
     "output_type": "display_data"
    }
   ],
   "source": [
    "import matplotlib.pyplot as plt\n",
    "import plotly.express as px\n",
    "\n",
    "# Further out the money trades have higher expected profit, as the likelihood is lower\n",
    "\n",
    "plt.scatter(df['distance_to_max_profit'], df['moic'])"
   ]
  },
  {
   "cell_type": "code",
   "execution_count": 44,
   "metadata": {},
   "outputs": [
    {
     "data": {
      "text/plain": [
       "<matplotlib.collections.PathCollection at 0x1e5322904d0>"
      ]
     },
     "execution_count": 44,
     "metadata": {},
     "output_type": "execute_result"
    },
    {
     "data": {
      "image/png": "[encoded data removed]",
      "text/plain": [
       "<Figure size 640x480 with 1 Axes>"
      ]
     },
     "metadata": {},
     "output_type": "display_data"
    }
   ],
   "source": [
    "# Expiration dates further in the future tend to have lower expected profit. \n",
    "# You are paying a premium for time\n",
    "plt.scatter(df['dte'], df['moic'])"
   ]
  },
  {
   "cell_type": "code",
   "execution_count": 59,
   "metadata": {},
   "outputs": [
    {
     "data": {
      "application/vnd.plotly.v1+json": {
       "config": {
        "plotlyServerURL": "https://plot.ly"
       },
       "data": [
        {
         "hovertemplate": "dte=%{x}<br>distance_to_max_profit=%{y}<br>moic=%{marker.color}<extra></extra>",
         "legendgroup": "",
         "marker": {
          "color": [
           11.7647058824,
           10.5263157895,
           9.5238095238,
           8.3333333333,
           8.3333333333,
           8.3333333333,
           7.6923076923,
           7.6923076923,
           7.4074074074,
           7.1428571429,
           6.6666666667,
           6.6666666667,
           6.6666666667,
           6.25,
           6.0606060606,
           5.8823529412,
           5.8823529412,
           5.8823529412,
           5.4054054054,
           5.4054054054,
           5.4054054054,
           5.2631578947,
           5,
           4.7619047619,
           4.7619047619,
           4.7619047619,
           4.5045045045,
           4.4444444444,
           4.347826087,
           4.347826087,
           4.347826087,
           4.347826087,
           4.0816326531,
           4.0816326531,
           4,
           4,
           3.8461538462,
           3.8461538462,
           3.7037037037,
           3.7037037037,
           3.6363636364,
           3.5714285714000003,
           3.5714285714000003,
           3.4482758621,
           3.3333333333,
           3.3333333333,
           3.3333333333,
           3.3333333333,
           3.2786885246,
           3.1746031746,
           3.1746031746,
           3.125,
           3.125,
           3.0769230769,
           2.9850746269,
           2.9411764706,
           2.9411764706,
           2.9411764706,
           2.9411764706,
           2.9411764706,
           2.8571428571,
           2.7777777778,
           2.7397260274,
           2.7027027027,
           2.6315789474,
           2.6315789474,
           2.6315789474,
           2.6315789474,
           2.5641025641,
           2.5316455696,
           2.5,
           2.4390243902,
           2.4390243902,
           2.4390243902,
           2.4096385542,
           2.380952381,
           2.3255813953,
           2.3255813953,
           2.2727272727,
           2.2727272727,
           2.2727272727,
           2.2222222222,
           2.2222222222,
           2.1739130435,
           2.1739130435,
           2.1505376344,
           2.1276595745,
           2.1276595745,
           2.0833333333,
           2.0833333333,
           2.0618556701,
           2.0618556701,
           2.0408163265,
           2.0202020202,
           1.9607843137,
           1.9607843137,
           1.9417475728,
           1.9230769231,
           1.9230769231,
           1.9230769231
          ],
          "coloraxis": "coloraxis",
          "symbol": "circle"
         },
         "mode": "markers",
         "name": "",
         "scene": "scene",
         "showlegend": false,
         "type": "scatter3d",
         "x": [
          21,
          21,
          28,
          32,
          28,
          21,
          32,
          21,
          28,
          35,
          28,
          21,
          32,
          21,
          35,
          28,
          32,
          35,
          32,
          21,
          28,
          35,
          32,
          35,
          21,
          28,
          42,
          49,
          28,
          32,
          21,
          35,
          49,
          32,
          35,
          28,
          21,
          49,
          35,
          32,
          42,
          49,
          28,
          21,
          35,
          32,
          49,
          42,
          28,
          49,
          21,
          42,
          32,
          35,
          28,
          42,
          42,
          35,
          21,
          49,
          32,
          49,
          28,
          42,
          49,
          35,
          21,
          32,
          28,
          42,
          35,
          32,
          21,
          49,
          42,
          49,
          28,
          35,
          42,
          21,
          32,
          42,
          49,
          28,
          35,
          42,
          32,
          49,
          35,
          21,
          28,
          42,
          49,
          32,
          21,
          49,
          35,
          28,
          42,
          28
         ],
         "y": [
          0.0347417265,
          0.0331275212,
          0.0347417265,
          0.0347417265,
          0.0331275212,
          0.031510706,
          0.0331275212,
          0.029891272400000002,
          0.031510706,
          0.0347417265,
          0.029891272400000002,
          0.028269212000000002,
          0.031510706,
          0.0266445163,
          0.0331275212,
          0.028269212000000002,
          0.029891272400000002,
          0.031510706,
          0.028269212000000002,
          0.0250171767,
          0.0266445163,
          0.029891272400000002,
          0.0266445163,
          0.028269212000000002,
          0.0233871844,
          0.0250171767,
          0.0347417265,
          0.0347417265,
          0.0233871844,
          0.0250171767,
          0.021754531,
          0.0266445163,
          0.0331275212,
          0.0233871844,
          0.0250171767,
          0.021754531,
          0.0201192077,
          0.031510706,
          0.0233871844,
          0.021754531,
          0.0266445163,
          0.029891272400000002,
          0.0201192077,
          0.0184812057,
          0.021754531,
          0.0201192077,
          0.028269212000000002,
          0.0250171767,
          0.0184812057,
          0.0266445163,
          0.0168405162,
          0.0233871844,
          0.0184812057,
          0.0201192077,
          0.0168405162,
          0.021754531,
          0.0225711909,
          0.0184812057,
          0.015197130500000001,
          0.0250171767,
          0.0168405162,
          0.0233871844,
          0.015197130500000001,
          0.0201192077,
          0.021754531,
          0.0168405162,
          0.0135510396,
          0.015197130500000001,
          0.0135510396,
          0.0184812057,
          0.015197130500000001,
          0.0135510396,
          0.0119022346,
          0.0201192077,
          0.0168405162,
          0.0184812057,
          0.0119022346,
          0.0135510396,
          0.015197130500000001,
          0.0102507065,
          0.0119022346,
          0.0143744237,
          0.0168405162,
          0.0102507065,
          0.0119022346,
          0.0135510396,
          0.0102507065,
          0.015197130500000001,
          0.0102507065,
          0.0085964464,
          0.0085964464,
          0.0119022346,
          0.0135510396,
          0.0085964464,
          0.0069394452,
          0.0119022346,
          0.0085964464,
          0.0069394452,
          0.0102507065,
          0.0061099139000000005
         ],
         "z": [
          11.7647058824,
          10.5263157895,
          9.5238095238,
          8.3333333333,
          8.3333333333,
          8.3333333333,
          7.6923076923,
          7.6923076923,
          7.4074074074,
          7.1428571429,
          6.6666666667,
          6.6666666667,
          6.6666666667,
          6.25,
          6.0606060606,
          5.8823529412,
          5.8823529412,
          5.8823529412,
          5.4054054054,
          5.4054054054,
          5.4054054054,
          5.2631578947,
          5,
          4.7619047619,
          4.7619047619,
          4.7619047619,
          4.5045045045,
          4.4444444444,
          4.347826087,
          4.347826087,
          4.347826087,
          4.347826087,
          4.0816326531,
          4.0816326531,
          4,
          4,
          3.8461538462,
          3.8461538462,
          3.7037037037,
          3.7037037037,
          3.6363636364,
          3.5714285714000003,
          3.5714285714000003,
          3.4482758621,
          3.3333333333,
          3.3333333333,
          3.3333333333,
          3.3333333333,
          3.2786885246,
          3.1746031746,
          3.1746031746,
          3.125,
          3.125,
          3.0769230769,
          2.9850746269,
          2.9411764706,
          2.9411764706,
          2.9411764706,
          2.9411764706,
          2.9411764706,
          2.8571428571,
          2.7777777778,
          2.7397260274,
          2.7027027027,
          2.6315789474,
          2.6315789474,
          2.6315789474,
          2.6315789474,
          2.5641025641,
          2.5316455696,
          2.5,
          2.4390243902,
          2.4390243902,
          2.4390243902,
          2.4096385542,
          2.380952381,
          2.3255813953,
          2.3255813953,
          2.2727272727,
          2.2727272727,
          2.2727272727,
          2.2222222222,
          2.2222222222,
          2.1739130435,
          2.1739130435,
          2.1505376344,
          2.1276595745,
          2.1276595745,
          2.0833333333,
          2.0833333333,
          2.0618556701,
          2.0618556701,
          2.0408163265,
          2.0202020202,
          1.9607843137,
          1.9607843137,
          1.9417475728,
          1.9230769231,
          1.9230769231,
          1.9230769231
         ]
        }
       ],
       "layout": {
        "coloraxis": {
         "colorbar": {
          "title": {
           "text": "moic"
          }
         },
         "colorscale": [
          [
           0,
           "#0d0887"
          ],
          [
           0.1111111111111111,
           "#46039f"
          ],
          [
           0.2222222222222222,
           "#7201a8"
          ],
          [
           0.3333333333333333,
           "#9c179e"
          ],
          [
           0.4444444444444444,
           "#bd3786"
          ],
          [
           0.5555555555555556,
           "#d8576b"
          ],
          [
           0.6666666666666666,
           "#ed7953"
          ],
          [
           0.7777777777777778,
           "#fb9f3a"
          ],
          [
           0.8888888888888888,
           "#fdca26"
          ],
          [
           1,
           "#f0f921"
          ]
         ]
        },
        "legend": {
         "tracegroupgap": 0
        },
        "margin": {
         "t": 60
        },
        "scene": {
         "domain": {
          "x": [
           0,
           1
          ],
          "y": [
           0,
           1
          ]
         },
         "xaxis": {
          "title": {
           "text": "dte"
          }
         },
         "yaxis": {
          "title": {
           "text": "distance_to_max_profit"
          }
         },
         "zaxis": {
          "title": {
           "text": "moic"
          }
         }
        },
        "template": {
         "data": {
          "bar": [
           {
            "error_x": {
             "color": "#2a3f5f"
            },
            "error_y": {
             "color": "#2a3f5f"
            },
            "marker": {
             "line": {
              "color": "#E5ECF6",
              "width": 0.5
             },
             "pattern": {
              "fillmode": "overlay",
              "size": 10,
              "solidity": 0.2
             }
            },
            "type": "bar"
           }
          ],
          "barpolar": [
           {
            "marker": {
             "line": {
              "color": "#E5ECF6",
              "width": 0.5
             },
             "pattern": {
              "fillmode": "overlay",
              "size": 10,
              "solidity": 0.2
             }
            },
            "type": "barpolar"
           }
          ],
          "carpet": [
           {
            "aaxis": {
             "endlinecolor": "#2a3f5f",
             "gridcolor": "white",
             "linecolor": "white",
             "minorgridcolor": "white",
             "startlinecolor": "#2a3f5f"
            },
            "baxis": {
             "endlinecolor": "#2a3f5f",
             "gridcolor": "white",
             "linecolor": "white",
             "minorgridcolor": "white",
             "startlinecolor": "#2a3f5f"
            },
            "type": "carpet"
           }
          ],
          "choropleth": [
           {
            "colorbar": {
             "outlinewidth": 0,
             "ticks": ""
            },
            "type": "choropleth"
           }
          ],
          "contour": [
           {
            "colorbar": {
             "outlinewidth": 0,
             "ticks": ""
            },
            "colorscale": [
             [
              0,
              "#0d0887"
             ],
             [
              0.1111111111111111,
              "#46039f"
             ],
             [
              0.2222222222222222,
              "#7201a8"
             ],
             [
              0.3333333333333333,
              "#9c179e"
             ],
             [
              0.4444444444444444,
              "#bd3786"
             ],
             [
              0.5555555555555556,
              "#d8576b"
             ],
             [
              0.6666666666666666,
              "#ed7953"
             ],
             [
              0.7777777777777778,
              "#fb9f3a"
             ],
             [
              0.8888888888888888,
              "#fdca26"
             ],
             [
              1,
              "#f0f921"
             ]
            ],
            "type": "contour"
           }
          ],
          "contourcarpet": [
           {
            "colorbar": {
             "outlinewidth": 0,
             "ticks": ""
            },
            "type": "contourcarpet"
           }
          ],
          "heatmap": [
           {
            "colorbar": {
             "outlinewidth": 0,
             "ticks": ""
            },
            "colorscale": [
             [
              0,
              "#0d0887"
             ],
             [
              0.1111111111111111,
              "#46039f"
             ],
             [
              0.2222222222222222,
              "#7201a8"
             ],
             [
              0.3333333333333333,
              "#9c179e"
             ],
             [
              0.4444444444444444,
              "#bd3786"
             ],
             [
              0.5555555555555556,
              "#d8576b"
             ],
             [
              0.6666666666666666,
              "#ed7953"
             ],
             [
              0.7777777777777778,
              "#fb9f3a"
             ],
             [
              0.8888888888888888,
              "#fdca26"
             ],
             [
              1,
              "#f0f921"
             ]
            ],
            "type": "heatmap"
           }
          ],
          "heatmapgl": [
           {
            "colorbar": {
             "outlinewidth": 0,
             "ticks": ""
            },
            "colorscale": [
             [
              0,
              "#0d0887"
             ],
             [
              0.1111111111111111,
              "#46039f"
             ],
             [
              0.2222222222222222,
              "#7201a8"
             ],
             [
              0.3333333333333333,
              "#9c179e"
             ],
             [
              0.4444444444444444,
              "#bd3786"
             ],
             [
              0.5555555555555556,
              "#d8576b"
             ],
             [
              0.6666666666666666,
              "#ed7953"
             ],
             [
              0.7777777777777778,
              "#fb9f3a"
             ],
             [
              0.8888888888888888,
              "#fdca26"
             ],
             [
              1,
              "#f0f921"
             ]
            ],
            "type": "heatmapgl"
           }
          ],
          "histogram": [
           {
            "marker": {
             "pattern": {
              "fillmode": "overlay",
              "size": 10,
              "solidity": 0.2
             }
            },
            "type": "histogram"
           }
          ],
          "histogram2d": [
           {
            "colorbar": {
             "outlinewidth": 0,
             "ticks": ""
            },
            "colorscale": [
             [
              0,
              "#0d0887"
             ],
             [
              0.1111111111111111,
              "#46039f"
             ],
             [
              0.2222222222222222,
              "#7201a8"
             ],
             [
              0.3333333333333333,
              "#9c179e"
             ],
             [
              0.4444444444444444,
              "#bd3786"
             ],
             [
              0.5555555555555556,
              "#d8576b"
             ],
             [
              0.6666666666666666,
              "#ed7953"
             ],
             [
              0.7777777777777778,
              "#fb9f3a"
             ],
             [
              0.8888888888888888,
              "#fdca26"
             ],
             [
              1,
              "#f0f921"
             ]
            ],
            "type": "histogram2d"
           }
          ],
          "histogram2dcontour": [
           {
            "colorbar": {
             "outlinewidth": 0,
             "ticks": ""
            },
            "colorscale": [
             [
              0,
              "#0d0887"
             ],
             [
              0.1111111111111111,
              "#46039f"
             ],
             [
              0.2222222222222222,
              "#7201a8"
             ],
             [
              0.3333333333333333,
              "#9c179e"
             ],
             [
              0.4444444444444444,
              "#bd3786"
             ],
             [
              0.5555555555555556,
              "#d8576b"
             ],
             [
              0.6666666666666666,
              "#ed7953"
             ],
             [
              0.7777777777777778,
              "#fb9f3a"
             ],
             [
              0.8888888888888888,
              "#fdca26"
             ],
             [
              1,
              "#f0f921"
             ]
            ],
            "type": "histogram2dcontour"
           }
          ],
          "mesh3d": [
           {
            "colorbar": {
             "outlinewidth": 0,
             "ticks": ""
            },
            "type": "mesh3d"
           }
          ],
          "parcoords": [
           {
            "line": {
             "colorbar": {
              "outlinewidth": 0,
              "ticks": ""
             }
            },
            "type": "parcoords"
           }
          ],
          "pie": [
           {
            "automargin": true,
            "type": "pie"
           }
          ],
          "scatter": [
           {
            "fillpattern": {
             "fillmode": "overlay",
             "size": 10,
             "solidity": 0.2
            },
            "type": "scatter"
           }
          ],
          "scatter3d": [
           {
            "line": {
             "colorbar": {
              "outlinewidth": 0,
              "ticks": ""
             }
            },
            "marker": {
             "colorbar": {
              "outlinewidth": 0,
              "ticks": ""
             }
            },
            "type": "scatter3d"
           }
          ],
          "scattercarpet": [
           {
            "marker": {
             "colorbar": {
              "outlinewidth": 0,
              "ticks": ""
             }
            },
            "type": "scattercarpet"
           }
          ],
          "scattergeo": [
           {
            "marker": {
             "colorbar": {
              "outlinewidth": 0,
              "ticks": ""
             }
            },
            "type": "scattergeo"
           }
          ],
          "scattergl": [
           {
            "marker": {
             "colorbar": {
              "outlinewidth": 0,
              "ticks": ""
             }
            },
            "type": "scattergl"
           }
          ],
          "scattermapbox": [
           {
            "marker": {
             "colorbar": {
              "outlinewidth": 0,
              "ticks": ""
             }
            },
            "type": "scattermapbox"
           }
          ],
          "scatterpolar": [
           {
            "marker": {
             "colorbar": {
              "outlinewidth": 0,
              "ticks": ""
             }
            },
            "type": "scatterpolar"
           }
          ],
          "scatterpolargl": [
           {
            "marker": {
             "colorbar": {
              "outlinewidth": 0,
              "ticks": ""
             }
            },
            "type": "scatterpolargl"
           }
          ],
          "scatterternary": [
           {
            "marker": {
             "colorbar": {
              "outlinewidth": 0,
              "ticks": ""
             }
            },
            "type": "scatterternary"
           }
          ],
          "surface": [
           {
            "colorbar": {
             "outlinewidth": 0,
             "ticks": ""
            },
            "colorscale": [
             [
              0,
              "#0d0887"
             ],
             [
              0.1111111111111111,
              "#46039f"
             ],
             [
              0.2222222222222222,
              "#7201a8"
             ],
             [
              0.3333333333333333,
              "#9c179e"
             ],
             [
              0.4444444444444444,
              "#bd3786"
             ],
             [
              0.5555555555555556,
              "#d8576b"
             ],
             [
              0.6666666666666666,
              "#ed7953"
             ],
             [
              0.7777777777777778,
              "#fb9f3a"
             ],
             [
              0.8888888888888888,
              "#fdca26"
             ],
             [
              1,
              "#f0f921"
             ]
            ],
            "type": "surface"
           }
          ],
          "table": [
           {
            "cells": {
             "fill": {
              "color": "#EBF0F8"
             },
             "line": {
              "color": "white"
             }
            },
            "header": {
             "fill": {
              "color": "#C8D4E3"
             },
             "line": {
              "color": "white"
             }
            },
            "type": "table"
           }
          ]
         },
         "layout": {
          "annotationdefaults": {
           "arrowcolor": "#2a3f5f",
           "arrowhead": 0,
           "arrowwidth": 1
          },
          "autotypenumbers": "strict",
          "coloraxis": {
           "colorbar": {
            "outlinewidth": 0,
            "ticks": ""
           }
          },
          "colorscale": {
           "diverging": [
            [
             0,
             "#8e0152"
            ],
            [
             0.1,
             "#c51b7d"
            ],
            [
             0.2,
             "#de77ae"
            ],
            [
             0.3,
             "#f1b6da"
            ],
            [
             0.4,
             "#fde0ef"
            ],
            [
             0.5,
             "#f7f7f7"
            ],
            [
             0.6,
             "#e6f5d0"
            ],
            [
             0.7,
             "#b8e186"
            ],
            [
             0.8,
             "#7fbc41"
            ],
            [
             0.9,
             "#4d9221"
            ],
            [
             1,
             "#276419"
            ]
           ],
           "sequential": [
            [
             0,
             "#0d0887"
            ],
            [
             0.1111111111111111,
             "#46039f"
            ],
            [
             0.2222222222222222,
             "#7201a8"
            ],
            [
             0.3333333333333333,
             "#9c179e"
            ],
            [
             0.4444444444444444,
             "#bd3786"
            ],
            [
             0.5555555555555556,
             "#d8576b"
            ],
            [
             0.6666666666666666,
             "#ed7953"
            ],
            [
             0.7777777777777778,
             "#fb9f3a"
            ],
            [
             0.8888888888888888,
             "#fdca26"
            ],
            [
             1,
             "#f0f921"
            ]
           ],
           "sequentialminus": [
            [
             0,
             "#0d0887"
            ],
            [
             0.1111111111111111,
             "#46039f"
            ],
            [
             0.2222222222222222,
             "#7201a8"
            ],
            [
             0.3333333333333333,
             "#9c179e"
            ],
            [
             0.4444444444444444,
             "#bd3786"
            ],
            [
             0.5555555555555556,
             "#d8576b"
            ],
            [
             0.6666666666666666,
             "#ed7953"
            ],
            [
             0.7777777777777778,
             "#fb9f3a"
            ],
            [
             0.8888888888888888,
             "#fdca26"
            ],
            [
             1,
             "#f0f921"
            ]
           ]
          },
          "colorway": [
           "#636efa",
           "#EF553B",
           "#00cc96",
           "#ab63fa",
           "#FFA15A",
           "#19d3f3",
           "#FF6692",
           "#B6E880",
           "#FF97FF",
           "#FECB52"
          ],
          "font": {
           "color": "#2a3f5f"
          },
          "geo": {
           "bgcolor": "white",
           "lakecolor": "white",
           "landcolor": "#E5ECF6",
           "showlakes": true,
           "showland": true,
           "subunitcolor": "white"
          },
          "hoverlabel": {
           "align": "left"
          },
          "hovermode": "closest",
          "mapbox": {
           "style": "light"
          },
          "paper_bgcolor": "white",
          "plot_bgcolor": "#E5ECF6",
          "polar": {
           "angularaxis": {
            "gridcolor": "white",
            "linecolor": "white",
            "ticks": ""
           },
           "bgcolor": "#E5ECF6",
           "radialaxis": {
            "gridcolor": "white",
            "linecolor": "white",
            "ticks": ""
           }
          },
          "scene": {
           "xaxis": {
            "backgroundcolor": "#E5ECF6",
            "gridcolor": "white",
            "gridwidth": 2,
            "linecolor": "white",
            "showbackground": true,
            "ticks": "",
            "zerolinecolor": "white"
           },
           "yaxis": {
            "backgroundcolor": "#E5ECF6",
            "gridcolor": "white",
            "gridwidth": 2,
            "linecolor": "white",
            "showbackground": true,
            "ticks": "",
            "zerolinecolor": "white"
           },
           "zaxis": {
            "backgroundcolor": "#E5ECF6",
            "gridcolor": "white",
            "gridwidth": 2,
            "linecolor": "white",
            "showbackground": true,
            "ticks": "",
            "zerolinecolor": "white"
           }
          },
          "shapedefaults": {
           "line": {
            "color": "#2a3f5f"
           }
          },
          "ternary": {
           "aaxis": {
            "gridcolor": "white",
            "linecolor": "white",
            "ticks": ""
           },
           "baxis": {
            "gridcolor": "white",
            "linecolor": "white",
            "ticks": ""
           },
           "bgcolor": "#E5ECF6",
           "caxis": {
            "gridcolor": "white",
            "linecolor": "white",
            "ticks": ""
           }
          },
          "title": {
           "x": 0.05
          },
          "xaxis": {
           "automargin": true,
           "gridcolor": "white",
           "linecolor": "white",
           "ticks": "",
           "title": {
            "standoff": 15
           },
           "zerolinecolor": "white",
           "zerolinewidth": 2
          },
          "yaxis": {
           "automargin": true,
           "gridcolor": "white",
           "linecolor": "white",
           "ticks": "",
           "title": {
            "standoff": 15
           },
           "zerolinecolor": "white",
           "zerolinewidth": 2
          }
         }
        }
       }
      }
     },
     "metadata": {},
     "output_type": "display_data"
    }
   ],
   "source": [
    "fig = px.scatter_3d(df[['dte','distance_to_max_profit','moic']], x=\"dte\", y=\"distance_to_max_profit\",z='moic',color='moic')\n",
    "fig.show()"
   ]
  },
  {
   "cell_type": "markdown",
   "metadata": {},
   "source": [
    "### Summary\n",
    "The Call Debit Spread API endpoint is a powerful tool for quant developers to assess potential call debit spread trades based on certain conditions like `ticker`, `days to expiration`, and `maximum strike price`. Utilizing the endpoint helps you make data-driven decisions when evaluating different debit spread opportunities, especially focusing on risk-reward metrics such as MOIC.\n",
    "\n",
    "\n",
    "In the above data:\n",
    "- A `moic` of `11` means you stand to make 11 times your initial investment if the underlying reaches the desired level before expiration.\n",
    "- **`distance_to_max_profit`** indicates how far the stock price is from hitting the maximum profit potential.\n",
    "\n",
    "### Recommendations\n",
    "- **Adjust Parameters**: Try different `min_dte`, `max_dte`, and `max_strike` values to find the most suitable debit spread trades based on your risk preferences.\n",
    "- **Interpret Results**: Focus on the `moic` metric to identify trades with higher potential profit, keeping in mind the risk associated."
   ]
  }
 ],
 "metadata": {
  "kernelspec": {
   "display_name": "venv",
   "language": "python",
   "name": "python3"
  },
  "language_info": {
   "codemirror_mode": {
    "name": "ipython",
    "version": 3
   },
   "file_extension": ".py",
   "mimetype": "text/x-python",
   "name": "python",
   "nbconvert_exporter": "python",
   "pygments_lexer": "ipython3",
   "version": "3.11.5"
  }
 },
 "nbformat": 4,
 "nbformat_minor": 2
}
