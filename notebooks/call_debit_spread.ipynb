{
 "cells": [
  {
   "cell_type": "markdown",
   "metadata": {},
   "source": [
    "# Call Debit Spread API Endpoint Documentation\n",
    "\n",
    "### Overview\n",
    "The Call Debit Spread API endpoint allows quant developers to easily retrieve data on call debit spreads for specified tickers. This documentation guides you through how to use the endpoint, including how to pass parameters, make API calls, and handle the response. This service is ideal for those interested in trading options with a specific risk-reward ratio.\n",
    "\n",
    "\n",
    "### Required Components\n",
    "To use this API endpoint, you need the following:\n",
    "- **API Key**: Your API key (`MOSAIC_API_KEY`) is required to authenticate the request.\n",
    "- **Environment Setup**: Use `.env` files to securely store your API key and keep sensitive data away from your code.\n"
   ]
  },
  {
   "cell_type": "code",
   "execution_count": 70,
   "metadata": {},
   "outputs": [
    {
     "name": "stderr",
     "output_type": "stream",
     "text": [
      "C:\\Users\\Skylar\\AppData\\Local\\Temp\\ipykernel_35524\\1310809030.py:24: FutureWarning:\n",
      "\n",
      "Passing literal json to 'read_json' is deprecated and will be removed in a future version. To read from a literal string, wrap it in a 'StringIO' object.\n",
      "\n"
     ]
    }
   ],
   "source": [
    "import requests \n",
    "import pandas as pd \n",
    "import os \n",
    "from dotenv import load_dotenv \n",
    "import urllib\n",
    "\n",
    "load_dotenv()\n",
    "\n",
    "\n",
    "params = {\n",
    "    \"ticker\": \"SPY\", # The ticker symbol for the underlying asset (e.g., `SPY`). \n",
    "    \"min_dte\": 3, # Minimum days to expiration. Defines a lower bound on `dte`. \n",
    "    \"max_dte\": 30, # Maximum days to expiration. Defines an upper bound on `dte`.\n",
    "    'max_strike':605 # The highest you think the stock price will go\n",
    "}\n",
    "\n",
    "# Convert dictionary to URL-encoded string\n",
    "query_string = urllib.parse.urlencode(params)\n",
    "\n",
    "url = f\"https://uum5c9uvjt.us-east-1.awsapprunner.com/call_options/debit_spread?{query_string}&apikey={os.environ['MOSAIC_API_KEY']}\"\n",
    "\n",
    "res = requests.get(url)\n",
    "\n",
    "df = pd.read_json(res.json()['data'],orient='split')"
   ]
  },
  {
   "cell_type": "code",
   "execution_count": 71,
   "metadata": {},
   "outputs": [
    {
     "data": {
      "text/html": [
       "<div>\n",
       "<style scoped>\n",
       "    .dataframe tbody tr th:only-of-type {\n",
       "        vertical-align: middle;\n",
       "    }\n",
       "\n",
       "    .dataframe tbody tr th {\n",
       "        vertical-align: top;\n",
       "    }\n",
       "\n",
       "    .dataframe thead th {\n",
       "        text-align: right;\n",
       "    }\n",
       "</style>\n",
       "<table border=\"1\" class=\"dataframe\">\n",
       "  <thead>\n",
       "    <tr style=\"text-align: right;\">\n",
       "      <th></th>\n",
       "      <th>underlying_ticker</th>\n",
       "      <th>bottom_leg_occ</th>\n",
       "      <th>occ</th>\n",
       "      <th>stock_price</th>\n",
       "      <th>expiration_date</th>\n",
       "      <th>dte</th>\n",
       "      <th>distance_to_max_profit</th>\n",
       "      <th>moic</th>\n",
       "    </tr>\n",
       "  </thead>\n",
       "  <tbody>\n",
       "    <tr>\n",
       "      <th>0</th>\n",
       "      <td>SPY</td>\n",
       "      <td>SPY241202C00604000</td>\n",
       "      <td>SPY241202C00605000</td>\n",
       "      <td>598.83</td>\n",
       "      <td>2024-12-02</td>\n",
       "      <td>3</td>\n",
       "      <td>0.010251</td>\n",
       "      <td>10.000000</td>\n",
       "    </tr>\n",
       "    <tr>\n",
       "      <th>1</th>\n",
       "      <td>SPY</td>\n",
       "      <td>SPY241203C00604000</td>\n",
       "      <td>SPY241203C00605000</td>\n",
       "      <td>598.83</td>\n",
       "      <td>2024-12-03</td>\n",
       "      <td>4</td>\n",
       "      <td>0.010251</td>\n",
       "      <td>6.060606</td>\n",
       "    </tr>\n",
       "    <tr>\n",
       "      <th>2</th>\n",
       "      <td>SPY</td>\n",
       "      <td>SPY241202C00603000</td>\n",
       "      <td>SPY241202C00604000</td>\n",
       "      <td>598.83</td>\n",
       "      <td>2024-12-02</td>\n",
       "      <td>3</td>\n",
       "      <td>0.008596</td>\n",
       "      <td>6.060606</td>\n",
       "    </tr>\n",
       "    <tr>\n",
       "      <th>3</th>\n",
       "      <td>SPY</td>\n",
       "      <td>SPY241204C00604000</td>\n",
       "      <td>SPY241204C00605000</td>\n",
       "      <td>598.83</td>\n",
       "      <td>2024-12-04</td>\n",
       "      <td>5</td>\n",
       "      <td>0.010251</td>\n",
       "      <td>4.761905</td>\n",
       "    </tr>\n",
       "    <tr>\n",
       "      <th>4</th>\n",
       "      <td>SPY</td>\n",
       "      <td>SPY241203C00603000</td>\n",
       "      <td>SPY241203C00604000</td>\n",
       "      <td>598.83</td>\n",
       "      <td>2024-12-03</td>\n",
       "      <td>4</td>\n",
       "      <td>0.008596</td>\n",
       "      <td>4.347826</td>\n",
       "    </tr>\n",
       "    <tr>\n",
       "      <th>5</th>\n",
       "      <td>SPY</td>\n",
       "      <td>SPY241202C00602000</td>\n",
       "      <td>SPY241202C00603000</td>\n",
       "      <td>598.83</td>\n",
       "      <td>2024-12-02</td>\n",
       "      <td>3</td>\n",
       "      <td>0.006939</td>\n",
       "      <td>4.347826</td>\n",
       "    </tr>\n",
       "    <tr>\n",
       "      <th>6</th>\n",
       "      <td>SPY</td>\n",
       "      <td>SPY241205C00604000</td>\n",
       "      <td>SPY241205C00605000</td>\n",
       "      <td>598.83</td>\n",
       "      <td>2024-12-05</td>\n",
       "      <td>6</td>\n",
       "      <td>0.010251</td>\n",
       "      <td>4.166667</td>\n",
       "    </tr>\n",
       "    <tr>\n",
       "      <th>7</th>\n",
       "      <td>SPY</td>\n",
       "      <td>SPY241204C00603000</td>\n",
       "      <td>SPY241204C00604000</td>\n",
       "      <td>598.83</td>\n",
       "      <td>2024-12-04</td>\n",
       "      <td>5</td>\n",
       "      <td>0.008596</td>\n",
       "      <td>3.703704</td>\n",
       "    </tr>\n",
       "    <tr>\n",
       "      <th>8</th>\n",
       "      <td>SPY</td>\n",
       "      <td>SPY241203C00602000</td>\n",
       "      <td>SPY241203C00603000</td>\n",
       "      <td>598.83</td>\n",
       "      <td>2024-12-03</td>\n",
       "      <td>4</td>\n",
       "      <td>0.006939</td>\n",
       "      <td>3.508772</td>\n",
       "    </tr>\n",
       "    <tr>\n",
       "      <th>9</th>\n",
       "      <td>SPY</td>\n",
       "      <td>SPY241205C00603000</td>\n",
       "      <td>SPY241205C00604000</td>\n",
       "      <td>598.83</td>\n",
       "      <td>2024-12-05</td>\n",
       "      <td>6</td>\n",
       "      <td>0.008596</td>\n",
       "      <td>3.333333</td>\n",
       "    </tr>\n",
       "  </tbody>\n",
       "</table>\n",
       "</div>"
      ],
      "text/plain": [
       "  underlying_ticker      bottom_leg_occ                 occ  stock_price  \\\n",
       "0               SPY  SPY241202C00604000  SPY241202C00605000       598.83   \n",
       "1               SPY  SPY241203C00604000  SPY241203C00605000       598.83   \n",
       "2               SPY  SPY241202C00603000  SPY241202C00604000       598.83   \n",
       "3               SPY  SPY241204C00604000  SPY241204C00605000       598.83   \n",
       "4               SPY  SPY241203C00603000  SPY241203C00604000       598.83   \n",
       "5               SPY  SPY241202C00602000  SPY241202C00603000       598.83   \n",
       "6               SPY  SPY241205C00604000  SPY241205C00605000       598.83   \n",
       "7               SPY  SPY241204C00603000  SPY241204C00604000       598.83   \n",
       "8               SPY  SPY241203C00602000  SPY241203C00603000       598.83   \n",
       "9               SPY  SPY241205C00603000  SPY241205C00604000       598.83   \n",
       "\n",
       "  expiration_date  dte  distance_to_max_profit       moic  \n",
       "0      2024-12-02    3                0.010251  10.000000  \n",
       "1      2024-12-03    4                0.010251   6.060606  \n",
       "2      2024-12-02    3                0.008596   6.060606  \n",
       "3      2024-12-04    5                0.010251   4.761905  \n",
       "4      2024-12-03    4                0.008596   4.347826  \n",
       "5      2024-12-02    3                0.006939   4.347826  \n",
       "6      2024-12-05    6                0.010251   4.166667  \n",
       "7      2024-12-04    5                0.008596   3.703704  \n",
       "8      2024-12-03    4                0.006939   3.508772  \n",
       "9      2024-12-05    6                0.008596   3.333333  "
      ]
     },
     "execution_count": 71,
     "metadata": {},
     "output_type": "execute_result"
    }
   ],
   "source": [
    "df[['underlying_ticker','bottom_leg_occ','occ','stock_price','expiration_date','dte','distance_to_max_profit','moic']].head(10)"
   ]
  },
  {
   "cell_type": "markdown",
   "metadata": {},
   "source": [
    "### Response Data\n",
    "The response from the endpoint is provided in split JSON format, which can be easily converted into a pandas DataFrame. The DataFrame will contain various fields, including:\n",
    "\n",
    "- **`underlying_ticker`**: The ticker symbol for the underlying asset (e.g., `SPY`).\n",
    "- **`bottom_leg_occ`**: Option Clearing Corporation (OCC) code for the lower leg of the spread.\n",
    "- **`occ`**: OCC code for the call debit spread.\n",
    "- **`expiration_date`**: The expiration date of the spread option.\n",
    "- **`dte`**: Days to expiration.\n",
    "- **`distance_to_max_profit`**: How far the spread is from achieving maximum profit.\n",
    "- **`moic`**: Multiple on Invested Capital. Represents the potential return multiple (e.g., an `moic` of 10 implies an 10x return on your initial investment).\n",
    "\n",
    "\n",
    "- **MOIC (Multiple on Invested Capital)**: This metric helps quantify the potential returns on the invested capital.\n",
    "  - For example, a `MOIC` of 10 means that if you invest $100, the payout would be $1,000.\n",
    "- Trades that are **further out of the money** tend to have **higher expected profit** but come with a **lower likelihood of profit**.\n",
    "- **Expiration dates** further into the future tend to yield **lower expected profit** since you pay a premium for the additional time.\n",
    "\n"
   ]
  },
  {
   "cell_type": "code",
   "execution_count": 72,
   "metadata": {},
   "outputs": [
    {
     "data": {
      "text/plain": [
       "<matplotlib.collections.PathCollection at 0x1e5297fdb90>"
      ]
     },
     "execution_count": 72,
     "metadata": {},
     "output_type": "execute_result"
    },
    {
     "data": {
      "image/png": "[encoded data removed]",
      "text/plain": [
       "<Figure size 640x480 with 1 Axes>"
      ]
     },
     "metadata": {},
     "output_type": "display_data"
    }
   ],
   "source": [
    "import matplotlib.pyplot as plt\n",
    "import plotly.express as px\n",
    "\n",
    "# Further out the money trades have higher expected profit, as the likelihood is lower\n",
    "\n",
    "plt.scatter(df['distance_to_max_profit'], df['moic'])"
   ]
  },
  {
   "cell_type": "code",
   "execution_count": 73,
   "metadata": {},
   "outputs": [
    {
     "data": {
      "text/plain": [
       "<matplotlib.collections.PathCollection at 0x1e52985a990>"
      ]
     },
     "execution_count": 73,
     "metadata": {},
     "output_type": "execute_result"
    },
    {
     "data": {
      "image/png": "[encoded data removed]",
      "text/plain": [
       "<Figure size 640x480 with 1 Axes>"
      ]
     },
     "metadata": {},
     "output_type": "display_data"
    }
   ],
   "source": [
    "# Expiration dates further in the future tend to have lower expected profit. \n",
    "# You are paying a premium for time\n",
    "plt.scatter(df['dte'], df['moic'])"
   ]
  },
  {
   "cell_type": "code",
   "execution_count": 74,
   "metadata": {},
   "outputs": [
    {
     "data": {
      "application/vnd.plotly.v1+json": {
       "config": {
        "plotlyServerURL": "https://plot.ly"
       },
       "data": [
        {
         "hovertemplate": "dte=%{x}<br>distance_to_max_profit=%{y}<br>moic=%{marker.color}<extra></extra>",
         "legendgroup": "",
         "marker": {
          "color": [
           10,
           6.0606060606,
           6.0606060606,
           4.7619047619,
           4.347826087,
           4.347826087,
           4.1666666667,
           3.7037037037,
           3.5087719298,
           3.3333333333,
           3.2258064516,
           3.2258064516,
           3.0303030303,
           3.0303030303,
           2.8571428571,
           2.7777777778,
           2.7397260274,
           2.7027027027,
           2.6315789474,
           2.6315789474,
           2.5316455696,
           2.4691358025,
           2.4691358025,
           2.4096385542,
           2.4096385542,
           2.380952381,
           2.3255813953,
           2.3255813953,
           2.2727272727,
           2.2222222222,
           2.2222222222,
           2.2222222222,
           2.1739130435,
           2.1739130435,
           2.1739130435,
           2.1276595745,
           2.0833333333,
           2.0833333333,
           2.0833333333,
           2.0833333333,
           2.0618556701,
           2.0408163265,
           2.0408163265,
           2,
           1.9801980198,
           1.9607843137,
           1.9230769231,
           1.9230769231,
           1.9230769231,
           1.9230769231,
           1.8867924528,
           1.8867924528,
           1.8867924528,
           1.8518518519,
           1.8518518519,
           1.8348623853000001,
           1.8181818182,
           1.8181818182,
           1.7857142857000001,
           1.7857142857000001,
           1.7699115044,
           1.7543859649,
           1.724137931,
           1.724137931,
           1.7094017094,
           1.6806722689,
           1.6666666667,
           1.6666666667,
           1.6666666667,
           1.6666666667,
           1.652892562,
           1.6393442623,
           1.6393442623,
           1.6393442623,
           1.6260162602000001,
           1.6260162602000001,
           1.6,
           1.5873015873,
           1.5748031496000001,
           1.5625,
           1.5503875969,
           1.5267175573,
           1.5267175573,
           1.5267175573,
           1.5267175573,
           1.5151515152,
           1.5151515152,
           1.5151515152,
           1.5151515152,
           1.4705882353,
           1.4705882353
          ],
          "coloraxis": "coloraxis",
          "symbol": "circle"
         },
         "mode": "markers",
         "name": "",
         "scene": "scene",
         "showlegend": false,
         "type": "scatter3d",
         "x": [
          3,
          4,
          3,
          5,
          4,
          3,
          6,
          5,
          4,
          6,
          7,
          3,
          10,
          5,
          11,
          7,
          6,
          4,
          12,
          10,
          11,
          5,
          14,
          3,
          7,
          12,
          6,
          10,
          21,
          11,
          14,
          4,
          12,
          7,
          28,
          5,
          14,
          10,
          14,
          21,
          28,
          6,
          11,
          12,
          3,
          21,
          4,
          28,
          7,
          28,
          10,
          14,
          11,
          5,
          12,
          21,
          28,
          6,
          7,
          14,
          21,
          10,
          28,
          11,
          12,
          3,
          14,
          6,
          5,
          4,
          21,
          28,
          7,
          10,
          12,
          11,
          14,
          28,
          21,
          28,
          7,
          12,
          6,
          10,
          5,
          4,
          11,
          14,
          21,
          28,
          3
         ],
         "y": [
          0.0102507065,
          0.0102507065,
          0.0085964464,
          0.0102507065,
          0.0085964464,
          0.0069394452,
          0.0102507065,
          0.0085964464,
          0.0069394452,
          0.0085964464,
          0.0102507065,
          0.0052796938000000005,
          0.0102507065,
          0.0069394452,
          0.0102507065,
          0.0085964464,
          0.0069394452,
          0.0052796938000000005,
          0.0102507065,
          0.0085964464,
          0.0085964464,
          0.0052796938000000005,
          0.0102507065,
          0.0036171830000000004,
          0.0069394452,
          0.0085964464,
          0.0052796938000000005,
          0.0069394452,
          0.0102507065,
          0.0069394452,
          0.0085964464,
          0.0036171830000000004,
          0.0069394452,
          0.0052796938000000005,
          0.0102507065,
          0.0036171830000000004,
          0.0069394452,
          0.0052796938000000005,
          0.0061099139000000005,
          0.0085964464,
          0.0085964464,
          0.0036171830000000004,
          0.0052796938000000005,
          0.0052796938000000005,
          0.0019519037,
          0.0069394452,
          0.0019519037,
          0.0069394452,
          0.0036171830000000004,
          0.0061099139000000005,
          0.0036171830000000004,
          0.0052796938000000005,
          0.0036171830000000004,
          0.0019519037,
          0.0036171830000000004,
          0.0052796938000000005,
          0.0052796938000000005,
          0.0019519037,
          0.0019519037,
          0.0036171830000000004,
          0.0036171830000000004,
          0.0019519037,
          0.0036171830000000004,
          0.0019519037,
          0.0019519037,
          0.0002838466,
          0.0019519037,
          0.0002838466,
          0.0002838466,
          0.0002838466,
          0.0019519037,
          0.0019519037,
          0.0002838466,
          0.0002838466,
          0.0002838466,
          0.0002838466,
          0.0002838466,
          0.0002838466,
          0.0002838466,
          -0.0013869975,
          -0.0013869975,
          -0.0013869975,
          -0.0013869975,
          -0.0013869975,
          -0.0013869975,
          -0.0013869975,
          -0.0013869975,
          -0.0013869975,
          -0.0013869975,
          -0.0022234677,
          -0.0013869975
         ],
         "z": [
          10,
          6.0606060606,
          6.0606060606,
          4.7619047619,
          4.347826087,
          4.347826087,
          4.1666666667,
          3.7037037037,
          3.5087719298,
          3.3333333333,
          3.2258064516,
          3.2258064516,
          3.0303030303,
          3.0303030303,
          2.8571428571,
          2.7777777778,
          2.7397260274,
          2.7027027027,
          2.6315789474,
          2.6315789474,
          2.5316455696,
          2.4691358025,
          2.4691358025,
          2.4096385542,
          2.4096385542,
          2.380952381,
          2.3255813953,
          2.3255813953,
          2.2727272727,
          2.2222222222,
          2.2222222222,
          2.2222222222,
          2.1739130435,
          2.1739130435,
          2.1739130435,
          2.1276595745,
          2.0833333333,
          2.0833333333,
          2.0833333333,
          2.0833333333,
          2.0618556701,
          2.0408163265,
          2.0408163265,
          2,
          1.9801980198,
          1.9607843137,
          1.9230769231,
          1.9230769231,
          1.9230769231,
          1.9230769231,
          1.8867924528,
          1.8867924528,
          1.8867924528,
          1.8518518519,
          1.8518518519,
          1.8348623853000001,
          1.8181818182,
          1.8181818182,
          1.7857142857000001,
          1.7857142857000001,
          1.7699115044,
          1.7543859649,
          1.724137931,
          1.724137931,
          1.7094017094,
          1.6806722689,
          1.6666666667,
          1.6666666667,
          1.6666666667,
          1.6666666667,
          1.652892562,
          1.6393442623,
          1.6393442623,
          1.6393442623,
          1.6260162602000001,
          1.6260162602000001,
          1.6,
          1.5873015873,
          1.5748031496000001,
          1.5625,
          1.5503875969,
          1.5267175573,
          1.5267175573,
          1.5267175573,
          1.5267175573,
          1.5151515152,
          1.5151515152,
          1.5151515152,
          1.5151515152,
          1.4705882353,
          1.4705882353
         ]
        }
       ],
       "layout": {
        "coloraxis": {
         "colorbar": {
          "title": {
           "text": "moic"
          }
         },
         "colorscale": [
          [
           0,
           "#0d0887"
          ],
          [
           0.1111111111111111,
           "#46039f"
          ],
          [
           0.2222222222222222,
           "#7201a8"
          ],
          [
           0.3333333333333333,
           "#9c179e"
          ],
          [
           0.4444444444444444,
           "#bd3786"
          ],
          [
           0.5555555555555556,
           "#d8576b"
          ],
          [
           0.6666666666666666,
           "#ed7953"
          ],
          [
           0.7777777777777778,
           "#fb9f3a"
          ],
          [
           0.8888888888888888,
           "#fdca26"
          ],
          [
           1,
           "#f0f921"
          ]
         ]
        },
        "legend": {
         "tracegroupgap": 0
        },
        "margin": {
         "t": 60
        },
        "scene": {
         "domain": {
          "x": [
           0,
           1
          ],
          "y": [
           0,
           1
          ]
         },
         "xaxis": {
          "title": {
           "text": "dte"
          }
         },
         "yaxis": {
          "title": {
           "text": "distance_to_max_profit"
          }
         },
         "zaxis": {
          "title": {
           "text": "moic"
          }
         }
        },
        "template": {
         "data": {
          "bar": [
           {
            "error_x": {
             "color": "#2a3f5f"
            },
            "error_y": {
             "color": "#2a3f5f"
            },
            "marker": {
             "line": {
              "color": "#E5ECF6",
              "width": 0.5
             },
             "pattern": {
              "fillmode": "overlay",
              "size": 10,
              "solidity": 0.2
             }
            },
            "type": "bar"
           }
          ],
          "barpolar": [
           {
            "marker": {
             "line": {
              "color": "#E5ECF6",
              "width": 0.5
             },
             "pattern": {
              "fillmode": "overlay",
              "size": 10,
              "solidity": 0.2
             }
            },
            "type": "barpolar"
           }
          ],
          "carpet": [
           {
            "aaxis": {
             "endlinecolor": "#2a3f5f",
             "gridcolor": "white",
             "linecolor": "white",
             "minorgridcolor": "white",
             "startlinecolor": "#2a3f5f"
            },
            "baxis": {
             "endlinecolor": "#2a3f5f",
             "gridcolor": "white",
             "linecolor": "white",
             "minorgridcolor": "white",
             "startlinecolor": "#2a3f5f"
            },
            "type": "carpet"
           }
          ],
          "choropleth": [
           {
            "colorbar": {
             "outlinewidth": 0,
             "ticks": ""
            },
            "type": "choropleth"
           }
          ],
          "contour": [
           {
            "colorbar": {
             "outlinewidth": 0,
             "ticks": ""
            },
            "colorscale": [
             [
              0,
              "#0d0887"
             ],
             [
              0.1111111111111111,
              "#46039f"
             ],
             [
              0.2222222222222222,
              "#7201a8"
             ],
             [
              0.3333333333333333,
              "#9c179e"
             ],
             [
              0.4444444444444444,
              "#bd3786"
             ],
             [
              0.5555555555555556,
              "#d8576b"
             ],
             [
              0.6666666666666666,
              "#ed7953"
             ],
             [
              0.7777777777777778,
              "#fb9f3a"
             ],
             [
              0.8888888888888888,
              "#fdca26"
             ],
             [
              1,
              "#f0f921"
             ]
            ],
            "type": "contour"
           }
          ],
          "contourcarpet": [
           {
            "colorbar": {
             "outlinewidth": 0,
             "ticks": ""
            },
            "type": "contourcarpet"
           }
          ],
          "heatmap": [
           {
            "colorbar": {
             "outlinewidth": 0,
             "ticks": ""
            },
            "colorscale": [
             [
              0,
              "#0d0887"
             ],
             [
              0.1111111111111111,
              "#46039f"
             ],
             [
              0.2222222222222222,
              "#7201a8"
             ],
             [
              0.3333333333333333,
              "#9c179e"
             ],
             [
              0.4444444444444444,
              "#bd3786"
             ],
             [
              0.5555555555555556,
              "#d8576b"
             ],
             [
              0.6666666666666666,
              "#ed7953"
             ],
             [
              0.7777777777777778,
              "#fb9f3a"
             ],
             [
              0.8888888888888888,
              "#fdca26"
             ],
             [
              1,
              "#f0f921"
             ]
            ],
            "type": "heatmap"
           }
          ],
          "heatmapgl": [
           {
            "colorbar": {
             "outlinewidth": 0,
             "ticks": ""
            },
            "colorscale": [
             [
              0,
              "#0d0887"
             ],
             [
              0.1111111111111111,
              "#46039f"
             ],
             [
              0.2222222222222222,
              "#7201a8"
             ],
             [
              0.3333333333333333,
              "#9c179e"
             ],
             [
              0.4444444444444444,
              "#bd3786"
             ],
             [
              0.5555555555555556,
              "#d8576b"
             ],
             [
              0.6666666666666666,
              "#ed7953"
             ],
             [
              0.7777777777777778,
              "#fb9f3a"
             ],
             [
              0.8888888888888888,
              "#fdca26"
             ],
             [
              1,
              "#f0f921"
             ]
            ],
            "type": "heatmapgl"
           }
          ],
          "histogram": [
           {
            "marker": {
             "pattern": {
              "fillmode": "overlay",
              "size": 10,
              "solidity": 0.2
             }
            },
            "type": "histogram"
           }
          ],
          "histogram2d": [
           {
            "colorbar": {
             "outlinewidth": 0,
             "ticks": ""
            },
            "colorscale": [
             [
              0,
              "#0d0887"
             ],
             [
              0.1111111111111111,
              "#46039f"
             ],
             [
              0.2222222222222222,
              "#7201a8"
             ],
             [
              0.3333333333333333,
              "#9c179e"
             ],
             [
              0.4444444444444444,
              "#bd3786"
             ],
             [
              0.5555555555555556,
              "#d8576b"
             ],
             [
              0.6666666666666666,
              "#ed7953"
             ],
             [
              0.7777777777777778,
              "#fb9f3a"
             ],
             [
              0.8888888888888888,
              "#fdca26"
             ],
             [
              1,
              "#f0f921"
             ]
            ],
            "type": "histogram2d"
           }
          ],
          "histogram2dcontour": [
           {
            "colorbar": {
             "outlinewidth": 0,
             "ticks": ""
            },
            "colorscale": [
             [
              0,
              "#0d0887"
             ],
             [
              0.1111111111111111,
              "#46039f"
             ],
             [
              0.2222222222222222,
              "#7201a8"
             ],
             [
              0.3333333333333333,
              "#9c179e"
             ],
             [
              0.4444444444444444,
              "#bd3786"
             ],
             [
              0.5555555555555556,
              "#d8576b"
             ],
             [
              0.6666666666666666,
              "#ed7953"
             ],
             [
              0.7777777777777778,
              "#fb9f3a"
             ],
             [
              0.8888888888888888,
              "#fdca26"
             ],
             [
              1,
              "#f0f921"
             ]
            ],
            "type": "histogram2dcontour"
           }
          ],
          "mesh3d": [
           {
            "colorbar": {
             "outlinewidth": 0,
             "ticks": ""
            },
            "type": "mesh3d"
           }
          ],
          "parcoords": [
           {
            "line": {
             "colorbar": {
              "outlinewidth": 0,
              "ticks": ""
             }
            },
            "type": "parcoords"
           }
          ],
          "pie": [
           {
            "automargin": true,
            "type": "pie"
           }
          ],
          "scatter": [
           {
            "fillpattern": {
             "fillmode": "overlay",
             "size": 10,
             "solidity": 0.2
            },
            "type": "scatter"
           }
          ],
          "scatter3d": [
           {
            "line": {
             "colorbar": {
              "outlinewidth": 0,
              "ticks": ""
             }
            },
            "marker": {
             "colorbar": {
              "outlinewidth": 0,
              "ticks": ""
             }
            },
            "type": "scatter3d"
           }
          ],
          "scattercarpet": [
           {
            "marker": {
             "colorbar": {
              "outlinewidth": 0,
              "ticks": ""
             }
            },
            "type": "scattercarpet"
           }
          ],
          "scattergeo": [
           {
            "marker": {
             "colorbar": {
              "outlinewidth": 0,
              "ticks": ""
             }
            },
            "type": "scattergeo"
           }
          ],
          "scattergl": [
           {
            "marker": {
             "colorbar": {
              "outlinewidth": 0,
              "ticks": ""
             }
            },
            "type": "scattergl"
           }
          ],
          "scattermapbox": [
           {
            "marker": {
             "colorbar": {
              "outlinewidth": 0,
              "ticks": ""
             }
            },
            "type": "scattermapbox"
           }
          ],
          "scatterpolar": [
           {
            "marker": {
             "colorbar": {
              "outlinewidth": 0,
              "ticks": ""
             }
            },
            "type": "scatterpolar"
           }
          ],
          "scatterpolargl": [
           {
            "marker": {
             "colorbar": {
              "outlinewidth": 0,
              "ticks": ""
             }
            },
            "type": "scatterpolargl"
           }
          ],
          "scatterternary": [
           {
            "marker": {
             "colorbar": {
              "outlinewidth": 0,
              "ticks": ""
             }
            },
            "type": "scatterternary"
           }
          ],
          "surface": [
           {
            "colorbar": {
             "outlinewidth": 0,
             "ticks": ""
            },
            "colorscale": [
             [
              0,
              "#0d0887"
             ],
             [
              0.1111111111111111,
              "#46039f"
             ],
             [
              0.2222222222222222,
              "#7201a8"
             ],
             [
              0.3333333333333333,
              "#9c179e"
             ],
             [
              0.4444444444444444,
              "#bd3786"
             ],
             [
              0.5555555555555556,
              "#d8576b"
             ],
             [
              0.6666666666666666,
              "#ed7953"
             ],
             [
              0.7777777777777778,
              "#fb9f3a"
             ],
             [
              0.8888888888888888,
              "#fdca26"
             ],
             [
              1,
              "#f0f921"
             ]
            ],
            "type": "surface"
           }
          ],
          "table": [
           {
            "cells": {
             "fill": {
              "color": "#EBF0F8"
             },
             "line": {
              "color": "white"
             }
            },
            "header": {
             "fill": {
              "color": "#C8D4E3"
             },
             "line": {
              "color": "white"
             }
            },
            "type": "table"
           }
          ]
         },
         "layout": {
          "annotationdefaults": {
           "arrowcolor": "#2a3f5f",
           "arrowhead": 0,
           "arrowwidth": 1
          },
          "autotypenumbers": "strict",
          "coloraxis": {
           "colorbar": {
            "outlinewidth": 0,
            "ticks": ""
           }
          },
          "colorscale": {
           "diverging": [
            [
             0,
             "#8e0152"
            ],
            [
             0.1,
             "#c51b7d"
            ],
            [
             0.2,
             "#de77ae"
            ],
            [
             0.3,
             "#f1b6da"
            ],
            [
             0.4,
             "#fde0ef"
            ],
            [
             0.5,
             "#f7f7f7"
            ],
            [
             0.6,
             "#e6f5d0"
            ],
            [
             0.7,
             "#b8e186"
            ],
            [
             0.8,
             "#7fbc41"
            ],
            [
             0.9,
             "#4d9221"
            ],
            [
             1,
             "#276419"
            ]
           ],
           "sequential": [
            [
             0,
             "#0d0887"
            ],
            [
             0.1111111111111111,
             "#46039f"
            ],
            [
             0.2222222222222222,
             "#7201a8"
            ],
            [
             0.3333333333333333,
             "#9c179e"
            ],
            [
             0.4444444444444444,
             "#bd3786"
            ],
            [
             0.5555555555555556,
             "#d8576b"
            ],
            [
             0.6666666666666666,
             "#ed7953"
            ],
            [
             0.7777777777777778,
             "#fb9f3a"
            ],
            [
             0.8888888888888888,
             "#fdca26"
            ],
            [
             1,
             "#f0f921"
            ]
           ],
           "sequentialminus": [
            [
             0,
             "#0d0887"
            ],
            [
             0.1111111111111111,
             "#46039f"
            ],
            [
             0.2222222222222222,
             "#7201a8"
            ],
            [
             0.3333333333333333,
             "#9c179e"
            ],
            [
             0.4444444444444444,
             "#bd3786"
            ],
            [
             0.5555555555555556,
             "#d8576b"
            ],
            [
             0.6666666666666666,
             "#ed7953"
            ],
            [
             0.7777777777777778,
             "#fb9f3a"
            ],
            [
             0.8888888888888888,
             "#fdca26"
            ],
            [
             1,
             "#f0f921"
            ]
           ]
          },
          "colorway": [
           "#636efa",
           "#EF553B",
           "#00cc96",
           "#ab63fa",
           "#FFA15A",
           "#19d3f3",
           "#FF6692",
           "#B6E880",
           "#FF97FF",
           "#FECB52"
          ],
          "font": {
           "color": "#2a3f5f"
          },
          "geo": {
           "bgcolor": "white",
           "lakecolor": "white",
           "landcolor": "#E5ECF6",
           "showlakes": true,
           "showland": true,
           "subunitcolor": "white"
          },
          "hoverlabel": {
           "align": "left"
          },
          "hovermode": "closest",
          "mapbox": {
           "style": "light"
          },
          "paper_bgcolor": "white",
          "plot_bgcolor": "#E5ECF6",
          "polar": {
           "angularaxis": {
            "gridcolor": "white",
            "linecolor": "white",
            "ticks": ""
           },
           "bgcolor": "#E5ECF6",
           "radialaxis": {
            "gridcolor": "white",
            "linecolor": "white",
            "ticks": ""
           }
          },
          "scene": {
           "xaxis": {
            "backgroundcolor": "#E5ECF6",
            "gridcolor": "white",
            "gridwidth": 2,
            "linecolor": "white",
            "showbackground": true,
            "ticks": "",
            "zerolinecolor": "white"
           },
           "yaxis": {
            "backgroundcolor": "#E5ECF6",
            "gridcolor": "white",
            "gridwidth": 2,
            "linecolor": "white",
            "showbackground": true,
            "ticks": "",
            "zerolinecolor": "white"
           },
           "zaxis": {
            "backgroundcolor": "#E5ECF6",
            "gridcolor": "white",
            "gridwidth": 2,
            "linecolor": "white",
            "showbackground": true,
            "ticks": "",
            "zerolinecolor": "white"
           }
          },
          "shapedefaults": {
           "line": {
            "color": "#2a3f5f"
           }
          },
          "ternary": {
           "aaxis": {
            "gridcolor": "white",
            "linecolor": "white",
            "ticks": ""
           },
           "baxis": {
            "gridcolor": "white",
            "linecolor": "white",
            "ticks": ""
           },
           "bgcolor": "#E5ECF6",
           "caxis": {
            "gridcolor": "white",
            "linecolor": "white",
            "ticks": ""
           }
          },
          "title": {
           "x": 0.05
          },
          "xaxis": {
           "automargin": true,
           "gridcolor": "white",
           "linecolor": "white",
           "ticks": "",
           "title": {
            "standoff": 15
           },
           "zerolinecolor": "white",
           "zerolinewidth": 2
          },
          "yaxis": {
           "automargin": true,
           "gridcolor": "white",
           "linecolor": "white",
           "ticks": "",
           "title": {
            "standoff": 15
           },
           "zerolinecolor": "white",
           "zerolinewidth": 2
          }
         }
        }
       }
      }
     },
     "metadata": {},
     "output_type": "display_data"
    }
   ],
   "source": [
    "fig = px.scatter_3d(df[['dte','distance_to_max_profit','moic']], x=\"dte\", y=\"distance_to_max_profit\",z='moic',color='moic')\n",
    "fig.show()"
   ]
  },
  {
   "cell_type": "markdown",
   "metadata": {},
   "source": [
    "### Summary\n",
    "The Call Debit Spread API endpoint is a powerful tool for quant developers to assess potential call debit spread trades based on certain conditions like `ticker`, `days to expiration`, and `maximum strike price`. Utilizing the endpoint helps you make data-driven decisions when evaluating different debit spread opportunities, especially focusing on risk-reward metrics such as MOIC.\n",
    "\n",
    "\n",
    "In the above data:\n",
    "- A `moic` of `6` means you stand to make 6 times your initial investment if the underlying reaches the desired level before expiration. $100 investment, $600 payout.\n",
    "- **`distance_to_max_profit`** indicates how far the stock price is from hitting the maximum profit potential.\n",
    "\n",
    "### Recommendations\n",
    "- **Adjust Parameters**: Try different `min_dte`, `max_dte`, and `max_strike` values to find the most suitable debit spread trades based on your risk preferences.\n",
    "- **Interpret Results**: Focus on the `moic` metric to identify trades with higher potential profit, keeping in mind the risk associated."
   ]
  }
 ],
 "metadata": {
  "kernelspec": {
   "display_name": "venv",
   "language": "python",
   "name": "python3"
  },
  "language_info": {
   "codemirror_mode": {
    "name": "ipython",
    "version": 3
   },
   "file_extension": ".py",
   "mimetype": "text/x-python",
   "name": "python",
   "nbconvert_exporter": "python",
   "pygments_lexer": "ipython3",
   "version": "3.11.5"
  }
 },
 "nbformat": 4,
 "nbformat_minor": 2
}
